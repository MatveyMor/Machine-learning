{
 "cells": [
  {
   "cell_type": "code",
   "execution_count": 73,
   "metadata": {},
   "outputs": [
    {
     "name": "stdout",
     "output_type": "stream",
     "text": [
      "[0.0, 0.9402385695332803, 0.8619868881315291, 0.8885443574849294, 0.8055388829343507, 0.9351796276447836, 0.7547442642060137, 0.9154845745271484, 0.9069515789601529, 0.8833576312960392, 0.8703592552895671, 0.8703592552895671, 0.8773721321030068, 0.8703592552895671, 0.8619868881315291, 0.9402385695332803, 0.85361498905772, 0.9503708333014534, 0.9442721787424647, 0.9402385695332803, 0.8427572744917122, 0.8250364469440588]\n",
      "0.0\n",
      "0\n",
      "0.7547442642060137\n",
      "5\n",
      "0.8055388829343507\n",
      "3\n"
     ]
    },
    {
     "ename": "ValueError",
     "evalue": "0.7547442642060137 is not in list",
     "output_type": "error",
     "traceback": [
      "\u001b[1;31m---------------------------------------------------------------------------\u001b[0m",
      "\u001b[1;31mValueError\u001b[0m                                Traceback (most recent call last)",
      "\u001b[1;32m<ipython-input-73-1d36685901dc>\u001b[0m in \u001b[0;36m<module>\u001b[1;34m()\u001b[0m\n\u001b[0;32m     67\u001b[0m     \u001b[0mdists\u001b[0m\u001b[1;33m.\u001b[0m\u001b[0mremove\u001b[0m\u001b[1;33m(\u001b[0m\u001b[0mmin\u001b[0m\u001b[1;33m(\u001b[0m\u001b[0mdists\u001b[0m\u001b[1;33m)\u001b[0m\u001b[1;33m)\u001b[0m\u001b[1;33m\u001b[0m\u001b[0m\n\u001b[0;32m     68\u001b[0m \u001b[1;33m\u001b[0m\u001b[0m\n\u001b[1;32m---> 69\u001b[1;33m \u001b[1;32mprint\u001b[0m \u001b[0mdists\u001b[0m\u001b[1;33m.\u001b[0m\u001b[0mindex\u001b[0m\u001b[1;33m(\u001b[0m\u001b[1;36m0.7547442642060137\u001b[0m\u001b[1;33m)\u001b[0m\u001b[1;33m\u001b[0m\u001b[0m\n\u001b[0m\u001b[0;32m     70\u001b[0m \u001b[1;32mprint\u001b[0m \u001b[0mdists\u001b[0m\u001b[1;33m.\u001b[0m\u001b[0mindex\u001b[0m\u001b[1;33m(\u001b[0m\u001b[1;36m0.8055388829343507\u001b[0m\u001b[1;33m)\u001b[0m\u001b[1;33m\u001b[0m\u001b[0m\n",
      "\u001b[1;31mValueError\u001b[0m: 0.7547442642060137 is not in list"
     ]
    }
   ],
   "source": [
    "import re\n",
    "import numpy as np\n",
    "\n",
    "from scipy.spatial.distance import cosine\n",
    "\n",
    "f = open('C:\\Users\\Matvey\\Desktop\\sen.txt', 'r')\n",
    "l=[]\n",
    "z=0\n",
    "\n",
    "for line in f:\n",
    "    z=z+1\n",
    "    t = line\n",
    "    t = t.lower()  \n",
    "    token = re.split('[^a-z]',t)\n",
    "    k = token.count('')\n",
    "    \n",
    "    for i in range(0,k):\n",
    "        token.remove('')\n",
    "    \n",
    "    for x in set(token):\n",
    "        m = token.count(x)\n",
    "        for i in range (0,m-1):\n",
    "            token.remove(x)\n",
    "            \n",
    "    l = np.concatenate ((l,token),axis=0)\n",
    "    \n",
    "l = np.unique(l)\n",
    "f.close()\n",
    "\n",
    "a=np.zeros([z,len(l)])\n",
    "v=0\n",
    "\n",
    "f = open('C:\\Users\\Matvey\\Desktop\\sen.txt', 'r')\n",
    "\n",
    "for line in f:\n",
    "    t = line\n",
    "    t = t.lower()\n",
    "    token = re.split('[^a-z]',t)\n",
    "    k = token.count('')\n",
    "    \n",
    "    for i in range(0,k):\n",
    "        token.remove('')\n",
    "        \n",
    "    for x in set(token):\n",
    "        m = token.count(x)\n",
    "        for i in range (0,m-1):\n",
    "            token.remove(x)\n",
    "    h=0\n",
    "    for x in l:\n",
    "        m = token.count(x)\n",
    "        a[v,h]=m\n",
    "        h=h+1   \n",
    "    v=v+1\n",
    "    \n",
    "f.close()\n",
    "\n",
    "dists = []\n",
    "for row in a:\n",
    "    dists.append(scipy.spatial.distance.cosine(a[0,:], row))\n",
    "    \n",
    "\n",
    "print dists\n",
    "\n",
    "for i in range(0,3):\n",
    "    print (min(dists))\n",
    "    print dists.index(min(dists))\n",
    "    dists.remove(min(dists))\n",
    "    \n",
    "print dists.index(0.7547442642060137)\n",
    "print dists.index(0.8055388829343507)"
   ]
  },
  {
   "cell_type": "code",
   "execution_count": 74,
   "metadata": {},
   "outputs": [
    {
     "name": "stdout",
     "output_type": "stream",
     "text": [
      "0.8250364469440588\n",
      "18\n",
      "0.8427572744917122\n",
      "17\n",
      "0.85361498905772\n",
      "13\n"
     ]
    }
   ],
   "source": [
    "for i in range(0,3):\n",
    "    print (min(dists))\n",
    "    print dists.index(min(dists))\n",
    "    dists.remove(min(dists))"
   ]
  },
  {
   "cell_type": "code",
   "execution_count": 72,
   "metadata": {},
   "outputs": [
    {
     "name": "stdout",
     "output_type": "stream",
     "text": [
      "6\n",
      "4\n"
     ]
    }
   ],
   "source": [
    "print dists.index(0.7547442642060137)\n",
    "print dists.index(0.8055388829343507)"
   ]
  },
  {
   "cell_type": "code",
   "execution_count": null,
   "metadata": {},
   "outputs": [],
   "source": []
  }
 ],
 "metadata": {
  "kernelspec": {
   "display_name": "Python 2",
   "language": "python",
   "name": "python2"
  },
  "language_info": {
   "codemirror_mode": {
    "name": "ipython",
    "version": 2
   },
   "file_extension": ".py",
   "mimetype": "text/x-python",
   "name": "python",
   "nbconvert_exporter": "python",
   "pygments_lexer": "ipython2",
   "version": "2.7.14"
  }
 },
 "nbformat": 4,
 "nbformat_minor": 2
}
